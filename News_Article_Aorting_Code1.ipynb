{
 "cells": [
  {
   "cell_type": "code",
   "execution_count": 1,
   "id": "610aa597",
   "metadata": {},
   "outputs": [],
   "source": [
    "import pandas as pd\n",
    "import numpy as np\n",
    "from matplotlib import pyplot as plt \n",
    "import seaborn as sns\n",
    "import nltk\n",
    "import re\n",
    "from nltk.corpus import stopwords\n",
    "from nltk.stem.porter import PorterStemmer\n",
    "from sklearn.feature_extraction.text import TfidfVectorizer\n",
    "from sklearn.naive_bayes import MultinomialNB\n",
    "from sklearn.ensemble import RandomForestClassifier\n",
    "from sklearn.svm import SVC\n",
    "from sklearn.metrics import accuracy_score, classification_report, f1_score"
   ]
  },
  {
   "cell_type": "code",
   "execution_count": 2,
   "id": "3d3a7a99",
   "metadata": {},
   "outputs": [],
   "source": [
    "df1 = pd.read_csv(r\"C:\\TY IT\\Sem - 2\\ML\\Projects\\News Article Sorting\\entertainment_data.csv\")\n",
    "df2 = pd.read_csv(r\"C:\\TY IT\\Sem - 2\\ML\\Projects\\News Article Sorting\\business_data.csv\")\n",
    "df3 = pd.read_csv(r\"C:\\TY IT\\Sem - 2\\ML\\Projects\\News Article Sorting\\education_data.csv\")\n",
    "df4 = pd.read_csv(r\"C:\\TY IT\\Sem - 2\\ML\\Projects\\News Article Sorting\\sports_data.csv\")\n",
    "df5 = pd.read_csv(r\"C:\\TY IT\\Sem - 2\\ML\\Projects\\News Article Sorting\\technology_data.csv\")"
   ]
  },
  {
   "cell_type": "code",
   "execution_count": 3,
   "id": "46b13f4b",
   "metadata": {},
   "outputs": [
    {
     "name": "stdout",
     "output_type": "stream",
     "text": [
      "Index(['headlines', 'description', 'content', 'url', 'category'], dtype='object')\n",
      "Index(['headlines', 'description', 'content', 'url', 'category'], dtype='object')\n",
      "Index(['headlines', 'description', 'content', 'url', 'category'], dtype='object')\n",
      "Index(['headlines', 'description', 'content', 'url', 'category'], dtype='object')\n",
      "Index(['headlines', 'description', 'content', 'url', 'category'], dtype='object')\n"
     ]
    }
   ],
   "source": [
    "# Check if 'category' column exists in each dataframe\n",
    "print(df1.columns)\n",
    "print(df2.columns)\n",
    "print(df3.columns)\n",
    "print(df4.columns)\n",
    "print(df5.columns)"
   ]
  },
  {
   "cell_type": "code",
   "execution_count": 10,
   "id": "43bc9e27",
   "metadata": {},
   "outputs": [
    {
     "data": {
      "text/html": [
       "<div>\n",
       "<style scoped>\n",
       "    .dataframe tbody tr th:only-of-type {\n",
       "        vertical-align: middle;\n",
       "    }\n",
       "\n",
       "    .dataframe tbody tr th {\n",
       "        vertical-align: top;\n",
       "    }\n",
       "\n",
       "    .dataframe thead th {\n",
       "        text-align: right;\n",
       "    }\n",
       "</style>\n",
       "<table border=\"1\" class=\"dataframe\">\n",
       "  <thead>\n",
       "    <tr style=\"text-align: right;\">\n",
       "      <th></th>\n",
       "      <th>headlines</th>\n",
       "      <th>description</th>\n",
       "      <th>content</th>\n",
       "      <th>category</th>\n",
       "    </tr>\n",
       "  </thead>\n",
       "  <tbody>\n",
       "    <tr>\n",
       "      <th>0</th>\n",
       "      <td>CUET UG 2023: 73.33% out of 1.49 lakh appear o...</td>\n",
       "      <td>During the first shift 20,690 students were sc...</td>\n",
       "      <td>CUET UG 2023: University Grants Commission Chi...</td>\n",
       "      <td>education</td>\n",
       "    </tr>\n",
       "    <tr>\n",
       "      <th>1</th>\n",
       "      <td>NEET UG 2024: Why is Physics considered a nigh...</td>\n",
       "      <td>Students can overcome their fear of physics an...</td>\n",
       "      <td>— Saurabh Kumar\\nPhysics has been known as a n...</td>\n",
       "      <td>education</td>\n",
       "    </tr>\n",
       "    <tr>\n",
       "      <th>2</th>\n",
       "      <td>Selena Gomez confirms relationship with produc...</td>\n",
       "      <td>Selena Gomez confirmed that she has been datin...</td>\n",
       "      <td>Here’s a piece of happy news for Selena Gomez’...</td>\n",
       "      <td>entertainment</td>\n",
       "    </tr>\n",
       "    <tr>\n",
       "      <th>3</th>\n",
       "      <td>Antonio Conte set to return after Spurs’ FA Cu...</td>\n",
       "      <td>Conte is recovering after undergoing a gall bl...</td>\n",
       "      <td>Tottenham Hotspur boss Antonio Conte is on the...</td>\n",
       "      <td>sports</td>\n",
       "    </tr>\n",
       "    <tr>\n",
       "      <th>4</th>\n",
       "      <td>IIT Madras awards over 2,700 degrees at 60th c...</td>\n",
       "      <td>A total of 2,573 students graduated from the i...</td>\n",
       "      <td>The Indian Institute of Technology, Madras tod...</td>\n",
       "      <td>education</td>\n",
       "    </tr>\n",
       "  </tbody>\n",
       "</table>\n",
       "</div>"
      ],
      "text/plain": [
       "                                           headlines  \\\n",
       "0  CUET UG 2023: 73.33% out of 1.49 lakh appear o...   \n",
       "1  NEET UG 2024: Why is Physics considered a nigh...   \n",
       "2  Selena Gomez confirms relationship with produc...   \n",
       "3  Antonio Conte set to return after Spurs’ FA Cu...   \n",
       "4  IIT Madras awards over 2,700 degrees at 60th c...   \n",
       "\n",
       "                                         description  \\\n",
       "0  During the first shift 20,690 students were sc...   \n",
       "1  Students can overcome their fear of physics an...   \n",
       "2  Selena Gomez confirmed that she has been datin...   \n",
       "3  Conte is recovering after undergoing a gall bl...   \n",
       "4  A total of 2,573 students graduated from the i...   \n",
       "\n",
       "                                             content       category  \n",
       "0  CUET UG 2023: University Grants Commission Chi...      education  \n",
       "1  — Saurabh Kumar\\nPhysics has been known as a n...      education  \n",
       "2  Here’s a piece of happy news for Selena Gomez’...  entertainment  \n",
       "3  Tottenham Hotspur boss Antonio Conte is on the...         sports  \n",
       "4  The Indian Institute of Technology, Madras tod...      education  "
      ]
     },
     "execution_count": 10,
     "metadata": {},
     "output_type": "execute_result"
    }
   ],
   "source": [
    "df.head()"
   ]
  },
  {
   "cell_type": "code",
   "execution_count": 4,
   "id": "02bcbf16",
   "metadata": {},
   "outputs": [],
   "source": [
    "# Ensure all DataFrames have the 'category' column\n",
    "for df in [df1, df2, df3, df4, df5]:\n",
    "    if 'category' not in df.columns:\n",
    "        raise KeyError(\"One of the DataFrames does not have the 'category' column\")"
   ]
  },
  {
   "cell_type": "code",
   "execution_count": 5,
   "id": "b2d7070f",
   "metadata": {},
   "outputs": [],
   "source": [
    "# joining all the dataframes\n",
    "dfs = [df1, df2, df3, df4, df5]\n",
    "df = pd.concat(dfs)"
   ]
  },
  {
   "cell_type": "code",
   "execution_count": 6,
   "id": "caeef15d",
   "metadata": {},
   "outputs": [],
   "source": [
    "# Shuffling the dataframe\n",
    "from sklearn.utils import shuffle\n",
    "df = shuffle(df)"
   ]
  },
  {
   "cell_type": "code",
   "execution_count": 7,
   "id": "e64abd61",
   "metadata": {},
   "outputs": [],
   "source": [
    "# resetting the index\n",
    "df.reset_index(inplace=True)"
   ]
  },
  {
   "cell_type": "code",
   "execution_count": 8,
   "id": "30361ddc",
   "metadata": {},
   "outputs": [],
   "source": [
    "# removing the useless columns like index and url\n",
    "df.drop(columns=[\"index\", \"url\"], inplace=True, errors='ignore')"
   ]
  },
  {
   "cell_type": "code",
   "execution_count": 9,
   "id": "629d3e35",
   "metadata": {},
   "outputs": [],
   "source": [
    "# mapping categories to numerical values\n",
    "def map_category(category):\n",
    "    category_map = {\n",
    "        'sports': 0,\n",
    "        'business': 1,\n",
    "        'entertainment': 2,\n",
    "        'education': 3,\n",
    "        'technology': 4\n",
    "    }\n",
    "    return category_map.get(category, -1)"
   ]
  },
  {
   "cell_type": "code",
   "execution_count": 29,
   "id": "be1b68df",
   "metadata": {},
   "outputs": [
    {
     "ename": "KeyError",
     "evalue": "'Category'",
     "output_type": "error",
     "traceback": [
      "\u001b[1;31m---------------------------------------------------------------------------\u001b[0m",
      "\u001b[1;31mKeyError\u001b[0m                                  Traceback (most recent call last)",
      "File \u001b[1;32m~\\AppData\\Local\\Programs\\Python\\Python311\\Lib\\site-packages\\pandas\\core\\indexes\\base.py:3653\u001b[0m, in \u001b[0;36mIndex.get_loc\u001b[1;34m(self, key)\u001b[0m\n\u001b[0;32m   3652\u001b[0m \u001b[38;5;28;01mtry\u001b[39;00m:\n\u001b[1;32m-> 3653\u001b[0m     \u001b[38;5;28;01mreturn\u001b[39;00m \u001b[38;5;28;43mself\u001b[39;49m\u001b[38;5;241;43m.\u001b[39;49m\u001b[43m_engine\u001b[49m\u001b[38;5;241;43m.\u001b[39;49m\u001b[43mget_loc\u001b[49m\u001b[43m(\u001b[49m\u001b[43mcasted_key\u001b[49m\u001b[43m)\u001b[49m\n\u001b[0;32m   3654\u001b[0m \u001b[38;5;28;01mexcept\u001b[39;00m \u001b[38;5;167;01mKeyError\u001b[39;00m \u001b[38;5;28;01mas\u001b[39;00m err:\n",
      "File \u001b[1;32m~\\AppData\\Local\\Programs\\Python\\Python311\\Lib\\site-packages\\pandas\\_libs\\index.pyx:147\u001b[0m, in \u001b[0;36mpandas._libs.index.IndexEngine.get_loc\u001b[1;34m()\u001b[0m\n",
      "File \u001b[1;32m~\\AppData\\Local\\Programs\\Python\\Python311\\Lib\\site-packages\\pandas\\_libs\\index.pyx:176\u001b[0m, in \u001b[0;36mpandas._libs.index.IndexEngine.get_loc\u001b[1;34m()\u001b[0m\n",
      "File \u001b[1;32mpandas\\_libs\\hashtable_class_helper.pxi:7080\u001b[0m, in \u001b[0;36mpandas._libs.hashtable.PyObjectHashTable.get_item\u001b[1;34m()\u001b[0m\n",
      "File \u001b[1;32mpandas\\_libs\\hashtable_class_helper.pxi:7088\u001b[0m, in \u001b[0;36mpandas._libs.hashtable.PyObjectHashTable.get_item\u001b[1;34m()\u001b[0m\n",
      "\u001b[1;31mKeyError\u001b[0m: 'Category'",
      "\nThe above exception was the direct cause of the following exception:\n",
      "\u001b[1;31mKeyError\u001b[0m                                  Traceback (most recent call last)",
      "Cell \u001b[1;32mIn[29], line 1\u001b[0m\n\u001b[1;32m----> 1\u001b[0m df[\u001b[38;5;124m'\u001b[39m\u001b[38;5;124mcategory\u001b[39m\u001b[38;5;124m'\u001b[39m] \u001b[38;5;241m=\u001b[39m \u001b[43mdf\u001b[49m\u001b[43m[\u001b[49m\u001b[38;5;124;43m'\u001b[39;49m\u001b[38;5;124;43mCategory\u001b[39;49m\u001b[38;5;124;43m'\u001b[39;49m\u001b[43m]\u001b[49m\u001b[38;5;241m.\u001b[39mapply(map_category)\n\u001b[0;32m      2\u001b[0m df\u001b[38;5;241m.\u001b[39mdrop(columns\u001b[38;5;241m=\u001b[39m[\u001b[38;5;124m'\u001b[39m\u001b[38;5;124mCategory\u001b[39m\u001b[38;5;124m'\u001b[39m],inplace\u001b[38;5;241m=\u001b[39m\u001b[38;5;28;01mTrue\u001b[39;00m)\n",
      "File \u001b[1;32m~\\AppData\\Local\\Programs\\Python\\Python311\\Lib\\site-packages\\pandas\\core\\frame.py:3761\u001b[0m, in \u001b[0;36mDataFrame.__getitem__\u001b[1;34m(self, key)\u001b[0m\n\u001b[0;32m   3759\u001b[0m \u001b[38;5;28;01mif\u001b[39;00m \u001b[38;5;28mself\u001b[39m\u001b[38;5;241m.\u001b[39mcolumns\u001b[38;5;241m.\u001b[39mnlevels \u001b[38;5;241m>\u001b[39m \u001b[38;5;241m1\u001b[39m:\n\u001b[0;32m   3760\u001b[0m     \u001b[38;5;28;01mreturn\u001b[39;00m \u001b[38;5;28mself\u001b[39m\u001b[38;5;241m.\u001b[39m_getitem_multilevel(key)\n\u001b[1;32m-> 3761\u001b[0m indexer \u001b[38;5;241m=\u001b[39m \u001b[38;5;28;43mself\u001b[39;49m\u001b[38;5;241;43m.\u001b[39;49m\u001b[43mcolumns\u001b[49m\u001b[38;5;241;43m.\u001b[39;49m\u001b[43mget_loc\u001b[49m\u001b[43m(\u001b[49m\u001b[43mkey\u001b[49m\u001b[43m)\u001b[49m\n\u001b[0;32m   3762\u001b[0m \u001b[38;5;28;01mif\u001b[39;00m is_integer(indexer):\n\u001b[0;32m   3763\u001b[0m     indexer \u001b[38;5;241m=\u001b[39m [indexer]\n",
      "File \u001b[1;32m~\\AppData\\Local\\Programs\\Python\\Python311\\Lib\\site-packages\\pandas\\core\\indexes\\base.py:3655\u001b[0m, in \u001b[0;36mIndex.get_loc\u001b[1;34m(self, key)\u001b[0m\n\u001b[0;32m   3653\u001b[0m     \u001b[38;5;28;01mreturn\u001b[39;00m \u001b[38;5;28mself\u001b[39m\u001b[38;5;241m.\u001b[39m_engine\u001b[38;5;241m.\u001b[39mget_loc(casted_key)\n\u001b[0;32m   3654\u001b[0m \u001b[38;5;28;01mexcept\u001b[39;00m \u001b[38;5;167;01mKeyError\u001b[39;00m \u001b[38;5;28;01mas\u001b[39;00m err:\n\u001b[1;32m-> 3655\u001b[0m     \u001b[38;5;28;01mraise\u001b[39;00m \u001b[38;5;167;01mKeyError\u001b[39;00m(key) \u001b[38;5;28;01mfrom\u001b[39;00m \u001b[38;5;21;01merr\u001b[39;00m\n\u001b[0;32m   3656\u001b[0m \u001b[38;5;28;01mexcept\u001b[39;00m \u001b[38;5;167;01mTypeError\u001b[39;00m:\n\u001b[0;32m   3657\u001b[0m     \u001b[38;5;66;03m# If we have a listlike key, _check_indexing_error will raise\u001b[39;00m\n\u001b[0;32m   3658\u001b[0m     \u001b[38;5;66;03m#  InvalidIndexError. Otherwise we fall through and re-raise\u001b[39;00m\n\u001b[0;32m   3659\u001b[0m     \u001b[38;5;66;03m#  the TypeError.\u001b[39;00m\n\u001b[0;32m   3660\u001b[0m     \u001b[38;5;28mself\u001b[39m\u001b[38;5;241m.\u001b[39m_check_indexing_error(key)\n",
      "\u001b[1;31mKeyError\u001b[0m: 'Category'"
     ]
    }
   ],
   "source": [
    "df['category'] = df['Category'].apply(map_category)\n",
    "df.drop(columns=['Category'],inplace=True)"
   ]
  },
  {
   "cell_type": "code",
   "execution_count": 9,
   "id": "04f57de5",
   "metadata": {},
   "outputs": [],
   "source": [
    "# joining the columns to create one and then dropping the columns\n",
    "df['Content'] = df['headlines'] + ' ' + df['description'] + ' ' + df['content']\n",
    "df.drop(['headlines', 'description', 'content'], axis=1, inplace=True)"
   ]
  },
  {
   "cell_type": "code",
   "execution_count": 10,
   "id": "d49d7103",
   "metadata": {},
   "outputs": [],
   "source": [
    "# Preprocessing the text data\n",
    "ps = PorterStemmer()"
   ]
  },
  {
   "cell_type": "code",
   "execution_count": 11,
   "id": "64b293f2",
   "metadata": {},
   "outputs": [],
   "source": [
    "def stemming(content):\n",
    "    stemmed_content = re.sub('[^a-zA-Z]',' ',content)\n",
    "    stemmed_content = stemmed_content.lower()\n",
    "    stemmed_content = stemmed_content.split()\n",
    "    stemmed_content = [ps.stem(word) for word in stemmed_content if not word in stopwords.words('english')]\n",
    "    stemmed_content = \" \".join(stemmed_content)\n",
    "    return stemmed_content"
   ]
  },
  {
   "cell_type": "code",
   "execution_count": 12,
   "id": "f508aea0",
   "metadata": {},
   "outputs": [
    {
     "name": "stderr",
     "output_type": "stream",
     "text": [
      "[nltk_data] Downloading package stopwords to\n",
      "[nltk_data]     C:\\Users\\ASUS\\AppData\\Roaming\\nltk_data...\n",
      "[nltk_data]   Package stopwords is already up-to-date!\n"
     ]
    },
    {
     "data": {
      "text/plain": [
       "True"
      ]
     },
     "execution_count": 12,
     "metadata": {},
     "output_type": "execute_result"
    }
   ],
   "source": [
    "nltk.download('stopwords')"
   ]
  },
  {
   "cell_type": "code",
   "execution_count": null,
   "id": "ae5a5241",
   "metadata": {},
   "outputs": [],
   "source": [
    "df['Content'] = df['Content'].apply(stemming)"
   ]
  },
  {
   "cell_type": "code",
   "execution_count": 34,
   "id": "be9220c6",
   "metadata": {},
   "outputs": [],
   "source": [
    "# Splitting the data\n",
    "X = df['Content']\n",
    "Y = df['Category']\n",
    "from sklearn.model_selection import train_test_split\n",
    "X_train, X_test, Y_train, Y_test = train_test_split(X, Y, test_size=0.2, stratify=Y, random_state=42)"
   ]
  },
  {
   "cell_type": "code",
   "execution_count": 35,
   "id": "e5fe9916",
   "metadata": {},
   "outputs": [],
   "source": [
    "# Vectorization\n",
    "vc = TfidfVectorizer()\n",
    "X_train = vc.fit_transform(X_train)\n",
    "X_test = vc.transform(X_test)"
   ]
  },
  {
   "cell_type": "code",
   "execution_count": 36,
   "id": "3137cc2a",
   "metadata": {},
   "outputs": [],
   "source": [
    "# Function to print evaluation metrics\n",
    "def evaluate_model(model, X_test, Y_test):\n",
    "    Y_pred = model.predict(X_test)\n",
    "    accuracy = accuracy_score(Y_test, Y_pred)\n",
    "    f1 = f1_score(Y_test, Y_pred, average='weighted')\n",
    "    report = classification_report(Y_test, Y_pred)\n",
    "    return accuracy, f1, report"
   ]
  },
  {
   "cell_type": "code",
   "execution_count": 37,
   "id": "17e00fe0",
   "metadata": {},
   "outputs": [
    {
     "ename": "NameError",
     "evalue": "name 'SVC' is not defined",
     "output_type": "error",
     "traceback": [
      "\u001b[1;31m---------------------------------------------------------------------------\u001b[0m",
      "\u001b[1;31mNameError\u001b[0m                                 Traceback (most recent call last)",
      "Cell \u001b[1;32mIn[37], line 2\u001b[0m\n\u001b[0;32m      1\u001b[0m \u001b[38;5;66;03m# SVM Model\u001b[39;00m\n\u001b[1;32m----> 2\u001b[0m model_svm \u001b[38;5;241m=\u001b[39m \u001b[43mSVC\u001b[49m()\n\u001b[0;32m      3\u001b[0m model_svm\u001b[38;5;241m.\u001b[39mfit(X_train, Y_train)\n\u001b[0;32m      4\u001b[0m accuracy_svm, f1_svm, report_svm \u001b[38;5;241m=\u001b[39m evaluate_model(model_svm, X_test, Y_test)\n",
      "\u001b[1;31mNameError\u001b[0m: name 'SVC' is not defined"
     ]
    }
   ],
   "source": [
    "# SVM Model\n",
    "model_svm = SVC()\n",
    "model_svm.fit(X_train, Y_train)\n",
    "accuracy_svm, f1_svm, report_svm = evaluate_model(model_svm, X_test, Y_test)"
   ]
  },
  {
   "cell_type": "code",
   "execution_count": null,
   "id": "c4a3a04f",
   "metadata": {},
   "outputs": [],
   "source": [
    "print(f\"Model: SVM\")\n",
    "print(f\"Accuracy: {accuracy_svm:.4f}\")\n",
    "print(f\"F1-Score: {f1_svm:.4f}\")\n",
    "print(f\"Classification Report:\\n{report_svm}\")\n",
    "print(\"=\"*50)"
   ]
  },
  {
   "cell_type": "code",
   "execution_count": null,
   "id": "56a9b474",
   "metadata": {},
   "outputs": [],
   "source": [
    "# Multinomial Naive Bayes Model\n",
    "model_nb = MultinomialNB()\n",
    "model_nb.fit(X_train, Y_train)\n",
    "accuracy_nb, f1_nb, report_nb = evaluate_model(model_nb, X_test, Y_test)"
   ]
  },
  {
   "cell_type": "code",
   "execution_count": null,
   "id": "e62be64e",
   "metadata": {},
   "outputs": [],
   "source": [
    "print(f\"Model: Multinomial Naive Bayes\")\n",
    "print(f\"Accuracy: {accuracy_nb:.4f}\")\n",
    "print(f\"F1-Score: {f1_nb:.4f}\")\n",
    "print(f\"Classification Report:\\n{report_nb}\")\n",
    "print(\"=\"*50)"
   ]
  },
  {
   "cell_type": "code",
   "execution_count": null,
   "id": "a8bbcc61",
   "metadata": {},
   "outputs": [],
   "source": [
    "# Random Forest Model\n",
    "model_rf = RandomForestClassifier()\n",
    "model_rf.fit(X_train, Y_train)\n",
    "accuracy_rf, f1_rf, report_rf = evaluate_model(model_rf, X_test, Y_test)"
   ]
  },
  {
   "cell_type": "code",
   "execution_count": null,
   "id": "658fa398",
   "metadata": {},
   "outputs": [],
   "source": [
    "print(f\"Model: Random Forest\")\n",
    "print(f\"Accuracy: {accuracy_rf:.4f}\")\n",
    "print(f\"F1-Score: {f1_rf:.4f}\")\n",
    "print(f\"Classification Report:\\n{report_rf}\")\n",
    "print(\"=\"*50)"
   ]
  },
  {
   "cell_type": "code",
   "execution_count": null,
   "id": "bcee67a1",
   "metadata": {},
   "outputs": [],
   "source": [
    "# Function to map numerical values back to categories\n",
    "def val_to_category(val):\n",
    "    category_map = {\n",
    "        0: 'sports',\n",
    "        1: 'business',\n",
    "        2: 'entertainment',\n",
    "        3: 'education',\n",
    "        4: 'technology'\n",
    "    }\n",
    "    return category_map.get(val, -1)"
   ]
  },
  {
   "cell_type": "code",
   "execution_count": null,
   "id": "ad712d4d",
   "metadata": {},
   "outputs": [],
   "source": [
    "# Function to make predictions\n",
    "def make_predictions(headlines, description, content, model):\n",
    "    text = headlines + \" \" + description + \" \" + content\n",
    "    text = stemming(text)\n",
    "    text = vc.transform([text])\n",
    "    val = model.predict(text)\n",
    "    val = val_to_category(int(val[0]))\n",
    "    print(\"News category is:\", val)"
   ]
  },
  {
   "cell_type": "code",
   "execution_count": null,
   "id": "8dd57ed2",
   "metadata": {},
   "outputs": [],
   "source": [
    "# Example predictions with SVM model\n",
    "print(\"Predictions with SVM model:\")\n",
    "make_predictions(\"kohli got his 50th century\", \"kohli has scored his 50th century today at stadium\", \"the run machine kholi hit another milestone my scoring his 50th odi centry today at stadium\")\n",
    "make_predictions(\"ambani earns 10M in an hour\", \"Mukesh Ambani earned 10M rupees in a single hour\", \"Mukesh Ambani, the chairman of Reliance Industries Limited, has earned around 10M rupees every single hour. This shows how much potential there is in the Indian market.\")\n",
    "make_predictions(\"Change in NCERT syllabus\", \"\", \"\")  # as you can see model can even predict with title only"
   ]
  },
  {
   "cell_type": "code",
   "execution_count": null,
   "id": "74ac896e",
   "metadata": {},
   "outputs": [],
   "source": [
    "# Example predictions with Multinomial Naive Bayes model\n",
    "print(\"Predictions with Multinomial Naive Bayes model:\")\n",
    "make_predictions(\"kohli got his 50th century\", \"kohli has scored his 50th century today at stadium\", \"the run machine kholi hit another milestone my scoring his 50th odi centry today at stadium\")\n",
    "make_predictions(\"ambani earns 10M in an hour\", \"Mukesh Ambani earned 10M rupees in a single hour\", \"Mukesh Ambani, the chairman of Reliance Industries Limited, has earned around 10M rupees every single hour. This shows how much potential there is in the Indian market.\")\n",
    "make_predictions(\"Change in NCERT syllabus\", \"\", \"\")  # as you can see model can even predict with title only"
   ]
  },
  {
   "cell_type": "code",
   "execution_count": null,
   "id": "f9ea3b8c",
   "metadata": {},
   "outputs": [],
   "source": [
    "# Example predictions with Random Forest model\n",
    "print(\"Predictions with Random Forest model:\")\n",
    "make_predictions(\"kohli got his 50th century\", \"kohli has scored his 50th century today at stadium\", \"the run machine kholi hit another milestone my scoring his 50th odi centry today at stadium\")\n",
    "make_predictions(\"ambani earns 10M in an hour\", \"Mukesh Ambani earned 10M rupees in a single hour\", \"Mukesh Ambani, the chairman of Reliance Industries Limited, has earned around 10M rupees every single hour. This shows how much potential there is in the Indian market.\")\n",
    "make_predictions(\"Change in NCERT syllabus\", \"\", \"\")  # as you can see model can even predict with title only"
   ]
  },
  {
   "cell_type": "code",
   "execution_count": null,
   "id": "1fd36019",
   "metadata": {},
   "outputs": [],
   "source": []
  }
 ],
 "metadata": {
  "kernelspec": {
   "display_name": "Python 3 (ipykernel)",
   "language": "python",
   "name": "python3"
  },
  "language_info": {
   "codemirror_mode": {
    "name": "ipython",
    "version": 3
   },
   "file_extension": ".py",
   "mimetype": "text/x-python",
   "name": "python",
   "nbconvert_exporter": "python",
   "pygments_lexer": "ipython3",
   "version": "3.11.4"
  }
 },
 "nbformat": 4,
 "nbformat_minor": 5
}
